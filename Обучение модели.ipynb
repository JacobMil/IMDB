{
  "nbformat": 4,
  "nbformat_minor": 0,
  "metadata": {
    "colab": {
      "name": "Копия блокнота \"IMDB.ipynb\"",
      "provenance": [],
      "collapsed_sections": []
    },
    "kernelspec": {
      "name": "python3",
      "display_name": "Python 3"
    }
  },
  "cells": [
    {
      "cell_type": "markdown",
      "metadata": {
        "id": "SR0kR0HkfZ5f"
      },
      "source": [
        "# **Обучение модели классификации отзывов на базе сета данных IMDB**"
      ]
    },
    {
      "cell_type": "code",
      "metadata": {
        "colab": {
          "base_uri": "https://localhost:8080/"
        },
        "id": "FI9nfAIAOxss",
        "outputId": "49187e87-43d4-4fe0-d081-ab21ede81537"
      },
      "source": [
        "!pip install catboost #Устанавливаем Катбуст"
      ],
      "execution_count": 261,
      "outputs": [
        {
          "output_type": "stream",
          "text": [
            "Requirement already satisfied: catboost in /usr/local/lib/python3.6/dist-packages (0.24.3)\n",
            "Requirement already satisfied: numpy>=1.16.0 in /usr/local/lib/python3.6/dist-packages (from catboost) (1.18.5)\n",
            "Requirement already satisfied: scipy in /usr/local/lib/python3.6/dist-packages (from catboost) (1.4.1)\n",
            "Requirement already satisfied: matplotlib in /usr/local/lib/python3.6/dist-packages (from catboost) (3.2.2)\n",
            "Requirement already satisfied: plotly in /usr/local/lib/python3.6/dist-packages (from catboost) (4.4.1)\n",
            "Requirement already satisfied: pandas>=0.24.0 in /usr/local/lib/python3.6/dist-packages (from catboost) (1.1.5)\n",
            "Requirement already satisfied: six in /usr/local/lib/python3.6/dist-packages (from catboost) (1.15.0)\n",
            "Requirement already satisfied: graphviz in /usr/local/lib/python3.6/dist-packages (from catboost) (0.10.1)\n",
            "Requirement already satisfied: python-dateutil>=2.1 in /usr/local/lib/python3.6/dist-packages (from matplotlib->catboost) (2.8.1)\n",
            "Requirement already satisfied: cycler>=0.10 in /usr/local/lib/python3.6/dist-packages (from matplotlib->catboost) (0.10.0)\n",
            "Requirement already satisfied: kiwisolver>=1.0.1 in /usr/local/lib/python3.6/dist-packages (from matplotlib->catboost) (1.3.1)\n",
            "Requirement already satisfied: pyparsing!=2.0.4,!=2.1.2,!=2.1.6,>=2.0.1 in /usr/local/lib/python3.6/dist-packages (from matplotlib->catboost) (2.4.7)\n",
            "Requirement already satisfied: retrying>=1.3.3 in /usr/local/lib/python3.6/dist-packages (from plotly->catboost) (1.3.3)\n",
            "Requirement already satisfied: pytz>=2017.2 in /usr/local/lib/python3.6/dist-packages (from pandas>=0.24.0->catboost) (2018.9)\n"
          ],
          "name": "stdout"
        }
      ]
    },
    {
      "cell_type": "markdown",
      "metadata": {
        "id": "egKEMw7NfW7Z"
      },
      "source": [
        "Импортируем бибилиотеки"
      ]
    },
    {
      "cell_type": "code",
      "metadata": {
        "id": "P_1YVUGfsNz3"
      },
      "source": [
        "import pandas as pd\r\n",
        "import numpy as np\r\n",
        "import sys\r\n",
        "import html\r\n",
        "import sklearn\r\n",
        "import os.path\r\n",
        "from fastai.text import *\r\n",
        "import re\r\n",
        "from catboost import CatBoostClassifier\r\n",
        "from sklearn.metrics import confusion_matrix, classification_report,roc_auc_score, mean_absolute_error, mean_squared_error\r\n"
      ],
      "execution_count": 262,
      "outputs": []
    },
    {
      "cell_type": "markdown",
      "metadata": {
        "id": "qGcKa0ZcgBRJ"
      },
      "source": [
        "Скачиваем датасет с сайта. "
      ]
    },
    {
      "cell_type": "code",
      "metadata": {
        "colab": {
          "base_uri": "https://localhost:8080/"
        },
        "id": "jmmTiEUhurR5",
        "outputId": "878f60a3-1494-49af-e6bc-f0caef35d982"
      },
      "source": [
        "!wget https://ai.stanford.edu/~amaas/data/sentiment/aclImdb_v1.tar.gz"
      ],
      "execution_count": 263,
      "outputs": [
        {
          "output_type": "stream",
          "text": [
            "--2020-12-13 23:54:45--  https://ai.stanford.edu/~amaas/data/sentiment/aclImdb_v1.tar.gz\n",
            "Resolving ai.stanford.edu (ai.stanford.edu)... 171.64.68.10\n",
            "Connecting to ai.stanford.edu (ai.stanford.edu)|171.64.68.10|:443... connected.\n",
            "HTTP request sent, awaiting response... 200 OK\n",
            "Length: 84125825 (80M) [application/x-gzip]\n",
            "Saving to: ‘aclImdb_v1.tar.gz.1’\n",
            "\n",
            "aclImdb_v1.tar.gz.1 100%[===================>]  80.23M  59.8MB/s    in 1.3s    \n",
            "\n",
            "2020-12-13 23:54:46 (59.8 MB/s) - ‘aclImdb_v1.tar.gz.1’ saved [84125825/84125825]\n",
            "\n"
          ],
          "name": "stdout"
        }
      ]
    },
    {
      "cell_type": "markdown",
      "metadata": {
        "id": "BTxY7415hufo"
      },
      "source": [
        "Данные находятся в архиве, разархивируем  их."
      ]
    },
    {
      "cell_type": "code",
      "metadata": {
        "id": "OKm3fnsPQsEP"
      },
      "source": [
        "!tar -xf aclImdb_v1.tar.gz"
      ],
      "execution_count": 264,
      "outputs": []
    },
    {
      "cell_type": "code",
      "metadata": {
        "colab": {
          "base_uri": "https://localhost:8080/"
        },
        "id": "wy6XfZdlCd95",
        "outputId": "84f9116d-2124-4f5a-95a5-ed2d303479d8"
      },
      "source": [
        "!ls /content/aclImdb"
      ],
      "execution_count": 265,
      "outputs": [
        {
          "output_type": "stream",
          "text": [
            "imdbEr.txt  imdb.vocab\tREADME\ttest  train\n"
          ],
          "name": "stdout"
        }
      ]
    },
    {
      "cell_type": "markdown",
      "metadata": {
        "id": "Tximdii_iJFW"
      },
      "source": [
        "Создадим переменную *PATH*, куда запишем путь и переменную *CLASSES* с классами"
      ]
    },
    {
      "cell_type": "code",
      "metadata": {
        "id": "W6ORTgAiKXNd"
      },
      "source": [
        "CLASSES = ['neg', 'pos']\r\n",
        "PATH=Path('/content/aclImdb//')"
      ],
      "execution_count": 266,
      "outputs": []
    },
    {
      "cell_type": "markdown",
      "metadata": {
        "id": "JJiz_ljth6Oy"
      },
      "source": [
        "Напишем функцию, которая пробежится по папкам и соберет все отзывы в один файл, заберет окончание названия файлов. Окончание в файлах - оценка пользователя."
      ]
    },
    {
      "cell_type": "code",
      "metadata": {
        "id": "DNPGJw5tKzVT"
      },
      "source": [
        "def get_texts(path):\r\n",
        "    \"\"\"\r\n",
        "Проходим по указаной папке, собираем данные в один файл\r\n",
        "    \"\"\"\r\n",
        "    \r\n",
        "    # создаем пустые списки для файлов\r\n",
        "    texts,labels,score = [],[],[]\r\n",
        "\r\n",
        "    \r\n",
        "    # пройдемся по всем папкам\r\n",
        "    for idx,label in enumerate(CLASSES):\r\n",
        "       \r\n",
        "        # пройдемся по всем файлам \r\n",
        "        for fname in (path/label).glob('*.*'):\r\n",
        "      \r\n",
        "            # откроем файл и склеим\r\n",
        "            \r\n",
        "            text_clear = re.sub(r'[<br />]', ' ', fname.open('r').read())\r\n",
        "            texts.append(text_clear)\r\n",
        "\r\n",
        "            score.append(str(fname).split('_')[1:][0].split('.txt')[0])\r\n",
        "    \r\n",
        "            # open \r\n",
        "            labels.append(idx)\r\n",
        "    return np.array(texts),np.array(labels), np.array(score)\r\n",
        "\r\n",
        "\r\n",
        "trn_texts,trn_labels,trn_score = get_texts(PATH/'train')\r\n",
        "val_texts,val_labels,val_score = get_texts(PATH/'test')"
      ],
      "execution_count": 267,
      "outputs": []
    },
    {
      "cell_type": "markdown",
      "metadata": {
        "id": "s15U3i32PNjF"
      },
      "source": [
        "Посмотрим, что получилось."
      ]
    },
    {
      "cell_type": "code",
      "metadata": {
        "colab": {
          "base_uri": "https://localhost:8080/"
        },
        "id": "iyjS0X2EQNsI",
        "outputId": "0bc7b18a-111b-48c0-ba9f-1c9d8672ec52"
      },
      "source": [
        "trn_texts[17001],trn_labels[17001],trn_score[17001]\r\n",
        "                                          "
      ],
      "execution_count": 268,
      "outputs": [
        {
          "output_type": "execute_result",
          "data": {
            "text/plain": [
              "('This was a movie that I had hea d a out all my life g owing up,  ut had neve  seen it until a few yea s ago. It\\'s  eputation t uly p oceeded it. I knew of Michael Mye s, had seen the mask, saw comme cials fo  all of the c ummy sequels that followed. But I was g owing up du ing the decade whe e Jason and F eddy had a deadly g ip on the ho  o  game, and neve  thought much of the Halloween f anchise. Boy, how I was  eing cheated with cheap knock offs.            Halloween is a genuinely te  ifying movie. Now,  y today\\'s standa ds, it isn\\'t as g aphic and visce al,  ut this film delive s on all the othe  levels most ho  o  movies fail to achieve today. The atmosphe e that John Ca pente  c eates is so c eepy, and the fact that it is set in a quaint, mid-west town is a testament to his a ility. The lighting effects a e down  ight ho  ifying, with \"The Shape\" seemingly appea ing and disappea ing into the shadows at will. The simple yet   utally effective music sco e only adds to the suspense.            The pe fo mances  y all the playe s a e well done, with specific nods to Jamie Lee Cu tis and Donald Pleasance. Ms. Cu tis is such a good Lau ie St ode  ecause she is so lika le and vulne a le. It is all the mo e f ightening when she is  eing stalked  y Michael Mye s  ecause the di ecto  and viewe  have invested so much into he , we want he  to su vive and get away.            Donald Pleasance plays D . Loomis like a man on a mission, and it wo ks well. He adds a sense of u gency to the p edicament the town finds itself in  ecause he knows what evil stalks thei  st eets.            Ove all, not only is Halloween a g eat ho  o  movie,  ut also a g eat film. It wo ks on many levels and d aws the audience in and neve  lets up. This should  e standa d viewing fo  anyone wanting to expe ience a t uly sca y movie. And fo  an even mo e f ightful time, t y watching it alone with the lights off. Don\\'t  e su p ised if you think you see \"The Shape\" lu king a ound in the shadows!',\n",
              " 1,\n",
              " '10')"
            ]
          },
          "metadata": {
            "tags": []
          },
          "execution_count": 268
        }
      ]
    },
    {
      "cell_type": "markdown",
      "metadata": {
        "id": "e1jfDw8Seysh"
      },
      "source": [
        "Создадим словарик и обернем его в дата фрейм.  \r\n",
        "**mood** = 0/1 (негативный/позитивный отзыв.)  \r\n",
        "**star** оценка, поставленная пользователями."
      ]
    },
    {
      "cell_type": "code",
      "metadata": {
        "id": "omHckme17axf"
      },
      "source": [
        "d_train = {'review': trn_texts, 'mood': trn_labels, 'stars':trn_score }\r\n",
        "data_val_test ={'review': val_texts, 'mood': val_labels, 'stars':val_score }"
      ],
      "execution_count": 269,
      "outputs": []
    },
    {
      "cell_type": "code",
      "metadata": {
        "id": "Ig_zmE0hMhBL"
      },
      "source": [
        "data_train = pd.DataFrame(d_train)\r\n",
        "data_val_test = pd.DataFrame(data_val_test)"
      ],
      "execution_count": 270,
      "outputs": []
    },
    {
      "cell_type": "code",
      "metadata": {
        "colab": {
          "base_uri": "https://localhost:8080/",
          "height": 406
        },
        "id": "GvXp58gdyABp",
        "outputId": "25b6102b-2fa4-41a8-e17d-e6d7c6a9d95f"
      },
      "source": [
        "data_train"
      ],
      "execution_count": 271,
      "outputs": [
        {
          "output_type": "execute_result",
          "data": {
            "text/html": [
              "<div>\n",
              "<style scoped>\n",
              "    .dataframe tbody tr th:only-of-type {\n",
              "        vertical-align: middle;\n",
              "    }\n",
              "\n",
              "    .dataframe tbody tr th {\n",
              "        vertical-align: top;\n",
              "    }\n",
              "\n",
              "    .dataframe thead th {\n",
              "        text-align: right;\n",
              "    }\n",
              "</style>\n",
              "<table border=\"1\" class=\"dataframe\">\n",
              "  <thead>\n",
              "    <tr style=\"text-align: right;\">\n",
              "      <th></th>\n",
              "      <th>review</th>\n",
              "      <th>mood</th>\n",
              "      <th>stars</th>\n",
              "    </tr>\n",
              "  </thead>\n",
              "  <tbody>\n",
              "    <tr>\n",
              "      <th>0</th>\n",
              "      <td>What on ea th has  ecome of ou  dea  Ramu? Is ...</td>\n",
              "      <td>0</td>\n",
              "      <td>1</td>\n",
              "    </tr>\n",
              "    <tr>\n",
              "      <th>1</th>\n",
              "      <td>So, Steve I win. You have to admi e a man who ...</td>\n",
              "      <td>0</td>\n",
              "      <td>4</td>\n",
              "    </tr>\n",
              "    <tr>\n",
              "      <th>2</th>\n",
              "      <td>This was the wo st acted movie I've eve  seen ...</td>\n",
              "      <td>0</td>\n",
              "      <td>1</td>\n",
              "    </tr>\n",
              "    <tr>\n",
              "      <th>3</th>\n",
              "      <td>Disappointing musical ve sion of Ma ga et Land...</td>\n",
              "      <td>0</td>\n",
              "      <td>4</td>\n",
              "    </tr>\n",
              "    <tr>\n",
              "      <th>4</th>\n",
              "      <td>Jim Belushi is having a mid life c isis, nothi...</td>\n",
              "      <td>0</td>\n",
              "      <td>3</td>\n",
              "    </tr>\n",
              "    <tr>\n",
              "      <th>...</th>\n",
              "      <td>...</td>\n",
              "      <td>...</td>\n",
              "      <td>...</td>\n",
              "    </tr>\n",
              "    <tr>\n",
              "      <th>24995</th>\n",
              "      <td>I've  ead up a little  it on Che  efo e watchi...</td>\n",
              "      <td>1</td>\n",
              "      <td>7</td>\n",
              "    </tr>\n",
              "    <tr>\n",
              "      <th>24996</th>\n",
              "      <td>A st ong pilot, this two-hou  episode does an ...</td>\n",
              "      <td>1</td>\n",
              "      <td>7</td>\n",
              "    </tr>\n",
              "    <tr>\n",
              "      <th>24997</th>\n",
              "      <td>I will admit, I thought this movie wasn't goin...</td>\n",
              "      <td>1</td>\n",
              "      <td>7</td>\n",
              "    </tr>\n",
              "    <tr>\n",
              "      <th>24998</th>\n",
              "      <td>Fi st I was caught totally off gua d  y the fi...</td>\n",
              "      <td>1</td>\n",
              "      <td>10</td>\n",
              "    </tr>\n",
              "    <tr>\n",
              "      <th>24999</th>\n",
              "      <td>Those who only  emem e  the late Si  Pete  Ust...</td>\n",
              "      <td>1</td>\n",
              "      <td>9</td>\n",
              "    </tr>\n",
              "  </tbody>\n",
              "</table>\n",
              "<p>25000 rows × 3 columns</p>\n",
              "</div>"
            ],
            "text/plain": [
              "                                                  review  mood stars\n",
              "0      What on ea th has  ecome of ou  dea  Ramu? Is ...     0     1\n",
              "1      So, Steve I win. You have to admi e a man who ...     0     4\n",
              "2      This was the wo st acted movie I've eve  seen ...     0     1\n",
              "3      Disappointing musical ve sion of Ma ga et Land...     0     4\n",
              "4      Jim Belushi is having a mid life c isis, nothi...     0     3\n",
              "...                                                  ...   ...   ...\n",
              "24995  I've  ead up a little  it on Che  efo e watchi...     1     7\n",
              "24996  A st ong pilot, this two-hou  episode does an ...     1     7\n",
              "24997  I will admit, I thought this movie wasn't goin...     1     7\n",
              "24998  Fi st I was caught totally off gua d  y the fi...     1    10\n",
              "24999  Those who only  emem e  the late Si  Pete  Ust...     1     9\n",
              "\n",
              "[25000 rows x 3 columns]"
            ]
          },
          "metadata": {
            "tags": []
          },
          "execution_count": 271
        }
      ]
    },
    {
      "cell_type": "markdown",
      "metadata": {
        "id": "mQapYMZnfT2Y"
      },
      "source": [
        "Поменяем тип данных в столбце stars и перемешаем датасеты"
      ]
    },
    {
      "cell_type": "code",
      "metadata": {
        "id": "o5dJ3hGtK9PQ"
      },
      "source": [
        "data_train['stars'] = data_train['stars'].astype('int32')\r\n",
        "data_val_test['stars'] = data_val_test['stars'].astype('int32')"
      ],
      "execution_count": 272,
      "outputs": []
    },
    {
      "cell_type": "markdown",
      "metadata": {
        "id": "s6ifqXehfSMS"
      },
      "source": [
        ""
      ]
    },
    {
      "cell_type": "code",
      "metadata": {
        "colab": {
          "base_uri": "https://localhost:8080/",
          "height": 197
        },
        "id": "5bbjroWm83-y",
        "outputId": "8769ca02-0d15-4db9-d43d-f3b59811037b"
      },
      "source": [
        "data_train = sklearn.utils.shuffle(data_train, random_state =42)\r\n",
        "data_train.reset_index(inplace=True, drop=True)\r\n",
        "data_train.head()"
      ],
      "execution_count": 273,
      "outputs": [
        {
          "output_type": "execute_result",
          "data": {
            "text/html": [
              "<div>\n",
              "<style scoped>\n",
              "    .dataframe tbody tr th:only-of-type {\n",
              "        vertical-align: middle;\n",
              "    }\n",
              "\n",
              "    .dataframe tbody tr th {\n",
              "        vertical-align: top;\n",
              "    }\n",
              "\n",
              "    .dataframe thead th {\n",
              "        text-align: right;\n",
              "    }\n",
              "</style>\n",
              "<table border=\"1\" class=\"dataframe\">\n",
              "  <thead>\n",
              "    <tr style=\"text-align: right;\">\n",
              "      <th></th>\n",
              "      <th>review</th>\n",
              "      <th>mood</th>\n",
              "      <th>stars</th>\n",
              "    </tr>\n",
              "  </thead>\n",
              "  <tbody>\n",
              "    <tr>\n",
              "      <th>0</th>\n",
              "      <td>Amy Poehle  and Rachel D atch a e among the fu...</td>\n",
              "      <td>0</td>\n",
              "      <td>4</td>\n",
              "    </tr>\n",
              "    <tr>\n",
              "      <th>1</th>\n",
              "      <td>Yea s ago, I found a \" a gain  in\" copy of thi...</td>\n",
              "      <td>1</td>\n",
              "      <td>7</td>\n",
              "    </tr>\n",
              "    <tr>\n",
              "      <th>2</th>\n",
              "      <td>This is the fi st time I eve  saw a movie with...</td>\n",
              "      <td>0</td>\n",
              "      <td>4</td>\n",
              "    </tr>\n",
              "    <tr>\n",
              "      <th>3</th>\n",
              "      <td>This has long  een one of my favou ite adaptat...</td>\n",
              "      <td>1</td>\n",
              "      <td>9</td>\n",
              "    </tr>\n",
              "    <tr>\n",
              "      <th>4</th>\n",
              "      <td>If you've  ead Mothe  Night and enjoyed it so ...</td>\n",
              "      <td>1</td>\n",
              "      <td>7</td>\n",
              "    </tr>\n",
              "  </tbody>\n",
              "</table>\n",
              "</div>"
            ],
            "text/plain": [
              "                                              review  mood  stars\n",
              "0  Amy Poehle  and Rachel D atch a e among the fu...     0      4\n",
              "1  Yea s ago, I found a \" a gain  in\" copy of thi...     1      7\n",
              "2  This is the fi st time I eve  saw a movie with...     0      4\n",
              "3  This has long  een one of my favou ite adaptat...     1      9\n",
              "4  If you've  ead Mothe  Night and enjoyed it so ...     1      7"
            ]
          },
          "metadata": {
            "tags": []
          },
          "execution_count": 273
        }
      ]
    },
    {
      "cell_type": "code",
      "metadata": {
        "colab": {
          "base_uri": "https://localhost:8080/",
          "height": 197
        },
        "id": "tXnBnq-n-BPJ",
        "outputId": "d121a8ee-d8a4-43d3-883f-4a967d0842d7"
      },
      "source": [
        "data_val_test = sklearn.utils.shuffle(data_val, random_state =42)\r\n",
        "data_val_test.reset_index(inplace=True, drop=True)\r\n",
        "data_val_test.head()"
      ],
      "execution_count": 274,
      "outputs": [
        {
          "output_type": "execute_result",
          "data": {
            "text/html": [
              "<div>\n",
              "<style scoped>\n",
              "    .dataframe tbody tr th:only-of-type {\n",
              "        vertical-align: middle;\n",
              "    }\n",
              "\n",
              "    .dataframe tbody tr th {\n",
              "        vertical-align: top;\n",
              "    }\n",
              "\n",
              "    .dataframe thead th {\n",
              "        text-align: right;\n",
              "    }\n",
              "</style>\n",
              "<table border=\"1\" class=\"dataframe\">\n",
              "  <thead>\n",
              "    <tr style=\"text-align: right;\">\n",
              "      <th></th>\n",
              "      <th>review</th>\n",
              "      <th>mood</th>\n",
              "      <th>stars</th>\n",
              "    </tr>\n",
              "  </thead>\n",
              "  <tbody>\n",
              "    <tr>\n",
              "      <th>0</th>\n",
              "      <td>I have to say that this movie was not what i e...</td>\n",
              "      <td>0</td>\n",
              "      <td>1</td>\n",
              "    </tr>\n",
              "    <tr>\n",
              "      <th>1</th>\n",
              "      <td>I saw this on DVD with subtitles, which made i...</td>\n",
              "      <td>1</td>\n",
              "      <td>10</td>\n",
              "    </tr>\n",
              "    <tr>\n",
              "      <th>2</th>\n",
              "      <td>When I watched this movie it was an afternoon ...</td>\n",
              "      <td>0</td>\n",
              "      <td>4</td>\n",
              "    </tr>\n",
              "    <tr>\n",
              "      <th>3</th>\n",
              "      <td>i just wanted to say i liked this movie a lot,...</td>\n",
              "      <td>1</td>\n",
              "      <td>7</td>\n",
              "    </tr>\n",
              "    <tr>\n",
              "      <th>4</th>\n",
              "      <td>Aside from the horrendous acting and the ridic...</td>\n",
              "      <td>0</td>\n",
              "      <td>3</td>\n",
              "    </tr>\n",
              "  </tbody>\n",
              "</table>\n",
              "</div>"
            ],
            "text/plain": [
              "                                              review  mood  stars\n",
              "0  I have to say that this movie was not what i e...     0      1\n",
              "1  I saw this on DVD with subtitles, which made i...     1     10\n",
              "2  When I watched this movie it was an afternoon ...     0      4\n",
              "3  i just wanted to say i liked this movie a lot,...     1      7\n",
              "4  Aside from the horrendous acting and the ridic...     0      3"
            ]
          },
          "metadata": {
            "tags": []
          },
          "execution_count": 274
        }
      ]
    },
    {
      "cell_type": "markdown",
      "metadata": {
        "id": "238Shm05fkDi"
      },
      "source": [
        "Разобьем тестовые данные на валидационную и тестовую выборку."
      ]
    },
    {
      "cell_type": "code",
      "metadata": {
        "id": "4jkG6eNLNS2n"
      },
      "source": [
        "data_test = data_val_test.sample(frac=0.5,random_state=42).copy()\r\n",
        "data_valid = data_val_test[~data_val_test.index.isin(data_test.index)].copy()"
      ],
      "execution_count": 275,
      "outputs": []
    },
    {
      "cell_type": "markdown",
      "metadata": {
        "id": "re6Czoq9fv5S"
      },
      "source": [
        "Определим и обучим модель Catboost, \r\n",
        "\r\n",
        " **Целевой признак:** Настроение коментария."
      ]
    },
    {
      "cell_type": "code",
      "metadata": {
        "id": "7-xm_PcZNSlF"
      },
      "source": [
        "model = CatBoostClassifier(verbose=100,\r\n",
        "                           learning_rate=0.2,\r\n",
        "                           early_stopping_rounds=200,\r\n",
        "                           eval_metric='F1'\r\n",
        "                           )"
      ],
      "execution_count": 276,
      "outputs": []
    },
    {
      "cell_type": "code",
      "metadata": {
        "colab": {
          "base_uri": "https://localhost:8080/"
        },
        "id": "83mb4ZJwNSam",
        "outputId": "c461ce3e-eef7-473a-d076-2025020f4a0e"
      },
      "source": [
        "model.fit(data_train[['review']],data_train[['mood']],\r\n",
        "          eval_set=(data_valid[['review']],data_valid[['mood']]),\r\n",
        "          text_features=['review'])"
      ],
      "execution_count": 277,
      "outputs": [
        {
          "output_type": "stream",
          "text": [
            "0:\tlearn: 0.8372111\ttest: 0.7782912\tbest: 0.7782912 (0)\ttotal: 202ms\tremaining: 3m 21s\n",
            "100:\tlearn: 0.8995588\ttest: 0.8292093\tbest: 0.8292093 (100)\ttotal: 20.6s\tremaining: 3m 3s\n",
            "200:\tlearn: 0.9278646\ttest: 0.8319731\tbest: 0.8330935 (157)\ttotal: 40.7s\tremaining: 2m 41s\n",
            "300:\tlearn: 0.9475991\ttest: 0.8358256\tbest: 0.8358516 (299)\ttotal: 1m 1s\tremaining: 2m 21s\n",
            "400:\tlearn: 0.9621867\ttest: 0.8383337\tbest: 0.8388417 (347)\ttotal: 1m 21s\tremaining: 2m 1s\n",
            "500:\tlearn: 0.9737819\ttest: 0.8377590\tbest: 0.8389177 (409)\ttotal: 1m 41s\tremaining: 1m 40s\n",
            "600:\tlearn: 0.9833380\ttest: 0.8381612\tbest: 0.8389177 (409)\ttotal: 2m 1s\tremaining: 1m 20s\n",
            "Stopped by overfitting detector  (200 iterations wait)\n",
            "\n",
            "bestTest = 0.8389177285\n",
            "bestIteration = 409\n",
            "\n",
            "Shrink model to first 410 iterations.\n"
          ],
          "name": "stdout"
        },
        {
          "output_type": "execute_result",
          "data": {
            "text/plain": [
              "<catboost.core.CatBoostClassifier at 0x7fecc03b0b70>"
            ]
          },
          "metadata": {
            "tags": []
          },
          "execution_count": 277
        }
      ]
    },
    {
      "cell_type": "markdown",
      "metadata": {
        "id": "Oad1nPyqg1p3"
      },
      "source": [
        "Рассмотрим метрики модели на тестовых данных:"
      ]
    },
    {
      "cell_type": "code",
      "metadata": {
        "colab": {
          "base_uri": "https://localhost:8080/"
        },
        "id": "lqADlgwqWQSM",
        "outputId": "80ccab3e-e57e-406e-a684-23fb27b531d6"
      },
      "source": [
        "roc_auc_score(data_test['mood'], model.predict_proba(data_test[['review']])[:,1])"
      ],
      "execution_count": 278,
      "outputs": [
        {
          "output_type": "execute_result",
          "data": {
            "text/plain": [
              "0.9132599629820211"
            ]
          },
          "metadata": {
            "tags": []
          },
          "execution_count": 278
        }
      ]
    },
    {
      "cell_type": "code",
      "metadata": {
        "colab": {
          "base_uri": "https://localhost:8080/"
        },
        "id": "qHrPqbGbWthC",
        "outputId": "ed737092-c984-40f5-ddfd-d27b2ff197da"
      },
      "source": [
        "print(classification_report(data_test['mood'],model.predict(data_test[['review']])))"
      ],
      "execution_count": 279,
      "outputs": [
        {
          "output_type": "stream",
          "text": [
            "              precision    recall  f1-score   support\n",
            "\n",
            "           0       0.85      0.82      0.83      6270\n",
            "           1       0.83      0.85      0.84      6230\n",
            "\n",
            "    accuracy                           0.84     12500\n",
            "   macro avg       0.84      0.84      0.84     12500\n",
            "weighted avg       0.84      0.84      0.84     12500\n",
            "\n"
          ],
          "name": "stdout"
        }
      ]
    },
    {
      "cell_type": "markdown",
      "metadata": {
        "id": "Ie6Rhe_rhDej"
      },
      "source": [
        "Определим и обучим модель Catboost, \r\n",
        "\r\n",
        "\r\n",
        " **Целевой признак:** оценка пользователя."
      ]
    },
    {
      "cell_type": "code",
      "metadata": {
        "id": "OVA2YY_oZ8Ae"
      },
      "source": [
        "model_star = CatBoostClassifier(verbose=100,early_stopping_rounds=200)"
      ],
      "execution_count": 280,
      "outputs": []
    },
    {
      "cell_type": "code",
      "metadata": {
        "colab": {
          "base_uri": "https://localhost:8080/"
        },
        "id": "UuPwEFfNZ79W",
        "outputId": "f739479e-ba3f-4007-f53a-ea503fa20d81"
      },
      "source": [
        "model_star.fit(data_train[['review']],data_train[['stars']],\r\n",
        "          eval_set=(data_valid[['review']],data_valid[['stars']]),\r\n",
        "          text_features=['review'])"
      ],
      "execution_count": 281,
      "outputs": [
        {
          "output_type": "stream",
          "text": [
            "Learning rate set to 0.115156\n",
            "0:\tlearn: 1.9775586\ttest: 1.9918904\tbest: 1.9918904 (0)\ttotal: 2.49s\tremaining: 41m 26s\n",
            "100:\tlearn: 1.4150070\ttest: 1.6435956\tbest: 1.6432961 (99)\ttotal: 3m 2s\tremaining: 27m 4s\n",
            "200:\tlearn: 1.3072172\ttest: 1.6143785\tbest: 1.6143785 (200)\ttotal: 6m 2s\tremaining: 24m\n",
            "300:\tlearn: 1.2295019\ttest: 1.6049523\tbest: 1.6049523 (300)\ttotal: 9m 1s\tremaining: 20m 58s\n",
            "400:\tlearn: 1.1652606\ttest: 1.6000225\tbest: 1.5999428 (379)\ttotal: 12m 1s\tremaining: 17m 57s\n",
            "500:\tlearn: 1.1092948\ttest: 1.5973684\tbest: 1.5969896 (493)\ttotal: 14m 59s\tremaining: 14m 56s\n",
            "600:\tlearn: 1.0541228\ttest: 1.5948338\tbest: 1.5948338 (600)\ttotal: 17m 59s\tremaining: 11m 56s\n",
            "700:\tlearn: 1.0051106\ttest: 1.5935970\tbest: 1.5932770 (688)\ttotal: 20m 58s\tremaining: 8m 56s\n",
            "800:\tlearn: 0.9585214\ttest: 1.5935471\tbest: 1.5932770 (688)\ttotal: 23m 59s\tremaining: 5m 57s\n",
            "900:\tlearn: 0.9143291\ttest: 1.5944567\tbest: 1.5928719 (829)\ttotal: 27m 1s\tremaining: 2m 58s\n",
            "999:\tlearn: 0.8757688\ttest: 1.5982603\tbest: 1.5928719 (829)\ttotal: 29m 59s\tremaining: 0us\n",
            "\n",
            "bestTest = 1.592871899\n",
            "bestIteration = 829\n",
            "\n",
            "Shrink model to first 830 iterations.\n"
          ],
          "name": "stdout"
        },
        {
          "output_type": "execute_result",
          "data": {
            "text/plain": [
              "<catboost.core.CatBoostClassifier at 0x7fecc03b0fd0>"
            ]
          },
          "metadata": {
            "tags": []
          },
          "execution_count": 281
        }
      ]
    },
    {
      "cell_type": "code",
      "metadata": {
        "colab": {
          "base_uri": "https://localhost:8080/"
        },
        "id": "UitfdUt2lGMx",
        "outputId": "505b982f-59d4-453f-e515-b9fc1ecb2242"
      },
      "source": [
        "print(classification_report(data_test['stars'],model_star.predict(data_test[['review']])))"
      ],
      "execution_count": 282,
      "outputs": [
        {
          "output_type": "stream",
          "text": [
            "              precision    recall  f1-score   support\n",
            "\n",
            "           1       0.43      0.84      0.57      2555\n",
            "           2       0.24      0.04      0.07      1113\n",
            "           3       0.29      0.10      0.15      1283\n",
            "           4       0.36      0.22      0.27      1319\n",
            "           7       0.32      0.23      0.27      1155\n",
            "           8       0.32      0.11      0.16      1436\n",
            "           9       0.46      0.04      0.07      1160\n",
            "          10       0.42      0.78      0.55      2479\n",
            "\n",
            "    accuracy                           0.40     12500\n",
            "   macro avg       0.36      0.30      0.26     12500\n",
            "weighted avg       0.37      0.40      0.33     12500\n",
            "\n"
          ],
          "name": "stdout"
        }
      ]
    },
    {
      "cell_type": "code",
      "metadata": {
        "colab": {
          "base_uri": "https://localhost:8080/"
        },
        "id": "JetrF2SYl99C",
        "outputId": "171fce2e-ed7a-4076-f96e-91d4894e8bb9"
      },
      "source": [
        "print(mean_squared_error(data_test['stars'],model_star.predict(data_test[['review']]), squared=False))"
      ],
      "execution_count": 287,
      "outputs": [
        {
          "output_type": "stream",
          "text": [
            "3.0537714387294934\n"
          ],
          "name": "stdout"
        }
      ]
    },
    {
      "cell_type": "code",
      "metadata": {
        "colab": {
          "base_uri": "https://localhost:8080/"
        },
        "id": "0tQcys6DZ7qV",
        "outputId": "cef0908a-179c-458e-82fa-9aa1a3532c9f"
      },
      "source": [
        "print(mean_absolute_error(data_test['stars'],model_star.predict(data_test[['review']])))"
      ],
      "execution_count": 296,
      "outputs": [
        {
          "output_type": "stream",
          "text": [
            "1.84344\n"
          ],
          "name": "stdout"
        }
      ]
    },
    {
      "cell_type": "markdown",
      "metadata": {
        "id": "pYZbfZCOruEC"
      },
      "source": [
        "Напишем функцию для проверки, с \"живым\" коментарием."
      ]
    },
    {
      "cell_type": "code",
      "metadata": {
        "id": "qEI2V5otso_R"
      },
      "source": [
        "def comment_analyzer(comment):\r\n",
        "  \r\n",
        "    data =  pd.DataFrame(comment, columns=['review'])\r\n",
        "    rating = model_star.predict(data) # 1 - 10\r\n",
        "    comment_type = model.predict(data) # neg / pos\r\n",
        "    # \r\n",
        " \r\n",
        "    return rating, comment_type"
      ],
      "execution_count": 285,
      "outputs": []
    },
    {
      "cell_type": "code",
      "metadata": {
        "id": "eb7Xyu0HsLDr"
      },
      "source": [
        ""
      ],
      "execution_count": null,
      "outputs": []
    },
    {
      "cell_type": "markdown",
      "metadata": {
        "id": "uD6Ma7DxsG23"
      },
      "source": [
        "Сохраним модели, для дальнейшей работы."
      ]
    },
    {
      "cell_type": "code",
      "metadata": {
        "id": "CBoZP5H-vCGy"
      },
      "source": [
        "model.save_model('mood')\r\n",
        "model.save_model('Star')"
      ],
      "execution_count": 290,
      "outputs": []
    }
  ]
}